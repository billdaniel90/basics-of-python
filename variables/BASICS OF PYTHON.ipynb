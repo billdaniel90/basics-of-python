{
 "cells": [
  {
   "cell_type": "markdown",
   "id": "e3f51523",
   "metadata": {},
   "source": [
    "# google colaboratory"
   ]
  },
  {
   "cell_type": "markdown",
   "id": "23ba7a8b",
   "metadata": {},
   "source": [
    "Week 1:\n",
    "- Introduction to Python programming language\n",
    "- - overview of data analysis\n",
    "- Anaconda: In this lesson, you will be getting a quick glimpse at the Anaconda\n",
    "environment - one of the most popular environments for doing data analysis in\n",
    "Python.\n",
    "- Jupyter Notebooks: Jupyter Notebooks are a great tool for getting started with\n",
    "writing python code. Though in production you often will write code in scripts,\n",
    "notebooks are wonderful for sharing insights and data viz! The Data Analysis\n",
    "Process Learn about the data analysis process and practice investigating different\n",
    "datasets using Python and its powerful packages for data analysis.\n",
    "- Variables, data types, and basic operations\n",
    "- Working with strings and string manipulation"
   ]
  },
  {
   "cell_type": "code",
   "execution_count": null,
   "id": "9cb51352",
   "metadata": {},
   "outputs": [],
   "source": []
  },
  {
   "cell_type": "markdown",
   "id": "e87156f6",
   "metadata": {
    "id": "e87156f6"
   },
   "source": [
    " # Variables and Datatypes"
   ]
  },
  {
   "cell_type": "code",
   "execution_count": null,
   "id": "9cef5344",
   "metadata": {
    "id": "9cef5344"
   },
   "outputs": [],
   "source": [
    "print(\"hello world!\")"
   ]
  },
  {
   "cell_type": "code",
   "execution_count": 1,
   "id": "OOtRo5e675jW",
   "metadata": {
    "colab": {
     "base_uri": "https://localhost:8080/"
    },
    "executionInfo": {
     "elapsed": 386,
     "status": "ok",
     "timestamp": 1671295021965,
     "user": {
      "displayName": "C4LEB-ai",
      "userId": "07008961076495462811"
     },
     "user_tz": -60
    },
    "id": "OOtRo5e675jW",
    "outputId": "d1dcf2c9-844c-41a9-87d3-6941442c2d46"
   },
   "outputs": [
    {
     "name": "stdout",
     "output_type": "stream",
     "text": [
      "caleb\n"
     ]
    }
   ],
   "source": [
    "number = 2\n",
    "type(number)\n",
    "\n",
    "name = 'caleb'\n",
    "print(name)"
   ]
  },
  {
   "cell_type": "code",
   "execution_count": 2,
   "id": "675e8c0a",
   "metadata": {},
   "outputs": [
    {
     "name": "stdout",
     "output_type": "stream",
     "text": [
      "<class 'int'>\n"
     ]
    }
   ],
   "source": [
    "print(type(number))"
   ]
  },
  {
   "cell_type": "code",
   "execution_count": null,
   "id": "__KBcUP776rY",
   "metadata": {
    "colab": {
     "base_uri": "https://localhost:8080/"
    },
    "executionInfo": {
     "elapsed": 9736,
     "status": "ok",
     "timestamp": 1671296556389,
     "user": {
      "displayName": "C4LEB-ai",
      "userId": "07008961076495462811"
     },
     "user_tz": -60
    },
    "id": "__KBcUP776rY",
    "outputId": "37334f8a-81d5-4e08-fe49-6d498c625830"
   },
   "outputs": [],
   "source": [
    "first_number = int(input(\"enter the value: \"))\n",
    "second_number = int(input(\"enter the second value: \"))"
   ]
  },
  {
   "cell_type": "code",
   "execution_count": null,
   "id": "f6f65ef7",
   "metadata": {},
   "outputs": [],
   "source": [
    "first_number, second_number"
   ]
  },
  {
   "cell_type": "code",
   "execution_count": null,
   "id": "33dbe737",
   "metadata": {},
   "outputs": [],
   "source": [
    "first_number * second_number"
   ]
  },
  {
   "cell_type": "code",
   "execution_count": null,
   "id": "MFHLBKBZ764r",
   "metadata": {
    "colab": {
     "base_uri": "https://localhost:8080/"
    },
    "executionInfo": {
     "elapsed": 378,
     "status": "ok",
     "timestamp": 1671296627447,
     "user": {
      "displayName": "C4LEB-ai",
      "userId": "07008961076495462811"
     },
     "user_tz": -60
    },
    "id": "MFHLBKBZ764r",
    "outputId": "ffc00d02-891f-45ad-a61f-7fd56f05646d"
   },
   "outputs": [],
   "source": [
    "result = first_number/second_number\n",
    "print(\"the result is:\", result)"
   ]
  },
  {
   "cell_type": "code",
   "execution_count": null,
   "id": "86b3ff3d",
   "metadata": {},
   "outputs": [],
   "source": [
    "type(number)num = int(input(\"enter the number : \"))"
   ]
  },
  {
   "cell_type": "code",
   "execution_count": 4,
   "id": "788c3413",
   "metadata": {},
   "outputs": [
    {
     "name": "stdout",
     "output_type": "stream",
     "text": [
      "W \bord\n"
     ]
    }
   ],
   "source": [
    "print(\"W \\bord\")"
   ]
  },
  {
   "cell_type": "markdown",
   "id": "ad8ef1ed",
   "metadata": {},
   "source": [
    "2, 2.0,wee"
   ]
  },
  {
   "cell_type": "code",
   "execution_count": null,
   "id": "30f28543",
   "metadata": {},
   "outputs": [],
   "source": [
    "x =2.0\n",
    "type(x)"
   ]
  },
  {
   "cell_type": "markdown",
   "id": "997ffa12",
   "metadata": {},
   "source": [
    "# Python Escape Character Sequences\n",
    "-  ' '\tSingle Quote\n",
    "- \\\\\tBackslash\n",
    "- \\n\tNew Line\n",
    "- \\t\tTab\n",
    "- \\b\tBackspace"
   ]
  },
  {
   "cell_type": "markdown",
   "id": "e4e91b26",
   "metadata": {},
   "source": [
    "# Python Operators \n",
    "- Arithmetic operators\n",
    "- Assignment operators\n",
    "- Comparison operators\n",
    "- Logical operators\n",
    "- Identity operators\n",
    "- Membership operators\n",
    "- Bitwise operators\n",
    "\n",
    "https://www.w3schools.com/python/python_operators.asp\n",
    "\n",
    "==  !=  >  >=  <  <=  is  is not  in  not in : menbership operators"
   ]
  },
  {
   "cell_type": "code",
   "execution_count": null,
   "id": "57781187",
   "metadata": {},
   "outputs": [],
   "source": []
  },
  {
   "cell_type": "markdown",
   "id": "55273520",
   "metadata": {
    "id": "55273520"
   },
   "source": [
    "### division of integer"
   ]
  },
  {
   "cell_type": "code",
   "execution_count": null,
   "id": "cb7c3950",
   "metadata": {
    "id": "cb7c3950"
   },
   "outputs": [],
   "source": [
    "##### first_number=8\n",
    "second_number=int(input('the dividend is'))\n",
    "result=first_number/second_number\n",
    "print('the quotient:',result)"
   ]
  },
  {
   "cell_type": "markdown",
   "id": "e1ebc350",
   "metadata": {
    "id": "e1ebc350"
   },
   "source": [
    "### addition of floats"
   ]
  },
  {
   "cell_type": "code",
   "execution_count": null,
   "id": "202a4239",
   "metadata": {
    "id": "202a4239"
   },
   "outputs": [],
   "source": [
    "first_number=45.8\n",
    "second_number=int(input('the missing number is'))\n",
    "result=first_number+second_number\n",
    "print('the sum is:',result)\n"
   ]
  },
  {
   "cell_type": "markdown",
   "id": "ee53ffce",
   "metadata": {
    "id": "ee53ffce"
   },
   "source": [
    "### subtraction of float from integer"
   ]
  },
  {
   "cell_type": "code",
   "execution_count": null,
   "id": "5e427057",
   "metadata": {
    "colab": {
     "base_uri": "https://localhost:8080/"
    },
    "executionInfo": {
     "elapsed": 3559618,
     "status": "ok",
     "timestamp": 1659705873370,
     "user": {
      "displayName": "C4LEB-ai",
      "userId": "07008961076495462811"
     },
     "user_tz": -60
    },
    "id": "5e427057",
    "outputId": "e0ed3a2d-7bea-4120-96e9-122bcb9bb8dd"
   },
   "outputs": [],
   "source": [
    "first_number=56\n",
    "second_number=float ( input('the second number is'))\n",
    "result=first_number-second_number\n",
    "print('the difference is:',result)\n"
   ]
  },
  {
   "cell_type": "markdown",
   "id": "d06e6280",
   "metadata": {
    "id": "d06e6280"
   },
   "source": [
    "### area of a cone( pi*radius cube*slant height)"
   ]
  },
  {
   "cell_type": "code",
   "execution_count": null,
   "id": "b03b169c",
   "metadata": {
    "id": "b03b169c"
   },
   "outputs": [],
   "source": [
    "pi=3.14\n",
    "radius=int(input('the radius is'))\n",
    "slant_height=5.6\n",
    "result=pi*radius*slant_height\n",
    "print('the area of cone is:',result)\n"
   ]
  },
  {
   "cell_type": "markdown",
   "id": "d37ffafb",
   "metadata": {
    "id": "d37ffafb"
   },
   "source": [
    "### area of a rectangle"
   ]
  },
  {
   "cell_type": "code",
   "execution_count": null,
   "id": "e6c7414f",
   "metadata": {
    "id": "e6c7414f"
   },
   "outputs": [],
   "source": [
    "pi=3.14\n",
    "radius=3**3\n",
    "slant_height=int(input ('the height is'))\n",
    "result=pi*radius*slant_height\n",
    "print('the area of cone is:',result)\n"
   ]
  },
  {
   "cell_type": "code",
   "execution_count": null,
   "id": "f4e67cb2",
   "metadata": {
    "id": "f4e67cb2"
   },
   "outputs": [],
   "source": [
    "pi=3.14\n",
    "radius=3**3\n",
    "slant_height= float(input('the height is'))\n",
    "result=pi*radius*slant_height\n",
    "print('the area of cone is:',result)\n"
   ]
  },
  {
   "cell_type": "markdown",
   "id": "47da8bc4",
   "metadata": {
    "id": "47da8bc4"
   },
   "source": [
    "# list"
   ]
  },
  {
   "cell_type": "code",
   "execution_count": 14,
   "id": "d6a5275f",
   "metadata": {},
   "outputs": [],
   "source": [
    "my_list.insert(1,5)"
   ]
  },
  {
   "cell_type": "code",
   "execution_count": 15,
   "id": "e3078d89",
   "metadata": {},
   "outputs": [
    {
     "name": "stdout",
     "output_type": "stream",
     "text": [
      "[1, 5, 2, 3, 4]\n"
     ]
    }
   ],
   "source": [
    "print(my_list)"
   ]
  },
  {
   "cell_type": "code",
   "execution_count": null,
   "id": "b2448417",
   "metadata": {
    "id": "b2448417"
   },
   "outputs": [],
   "source": [
    "#creating a list\n",
    "list_1 =['b','r','i','g','h','t']"
   ]
  },
  {
   "cell_type": "code",
   "execution_count": null,
   "id": "94a62153",
   "metadata": {},
   "outputs": [],
   "source": [
    "text = 'emmanuel'\n",
    "l2 = list(text)\n",
    "print(l2)\n",
    "#converting string(ie numbers )to integers\n",
    "num_text = '12345'\n",
    "num_list = [int(x)for x in list(num_text)]\n",
    "print(num_list)"
   ]
  },
  {
   "cell_type": "code",
   "execution_count": null,
   "id": "1575aa13",
   "metadata": {
    "id": "1575aa13"
   },
   "outputs": [],
   "source": [
    "a= 'bright'\n",
    "list_2 =[a]\n",
    "#printing out the values of your\n",
    "print(list_1)"
   ]
  },
  {
   "cell_type": "markdown",
   "id": "c5cab3d2",
   "metadata": {
    "id": "c5cab3d2"
   },
   "source": [
    "# list operations\n",
    "- indexing,slicing operation:a way to refer the individual terms within an iterable by its position\n",
    "- insert(): add items to a list in a specific position\n",
    "- remove():removes the first occurence of the element with the specified value\n",
    "- append(); it is a pre-defined method used to add a single item to certain collection types\n",
    "- sort():arranging data in a particular order\n",
    "- index():refer to a position within an ordered list\n",
    "- min(), max()\n",
    "- pop()\n",
    "- clear()"
   ]
  },
  {
   "cell_type": "code",
   "execution_count": 28,
   "id": "a13239aa",
   "metadata": {},
   "outputs": [
    {
     "data": {
      "text/plain": [
       "1"
      ]
     },
     "execution_count": 28,
     "metadata": {},
     "output_type": "execute_result"
    }
   ],
   "source": [
    "score = [2,3,5,7,1,7,9]\n",
    "min(score)"
   ]
  },
  {
   "cell_type": "code",
   "execution_count": 29,
   "id": "097a8713",
   "metadata": {},
   "outputs": [
    {
     "data": {
      "text/plain": [
       "9"
      ]
     },
     "execution_count": 29,
     "metadata": {},
     "output_type": "execute_result"
    }
   ],
   "source": [
    "max(score)"
   ]
  },
  {
   "cell_type": "code",
   "execution_count": 16,
   "id": "2bf6ca74",
   "metadata": {},
   "outputs": [
    {
     "name": "stdout",
     "output_type": "stream",
     "text": [
      "[1, 2, 3, 4]\n"
     ]
    }
   ],
   "source": [
    "my_list = [1,2,3,4]\n",
    "print(my_list)"
   ]
  },
  {
   "cell_type": "code",
   "execution_count": 18,
   "id": "cba7c597",
   "metadata": {},
   "outputs": [
    {
     "name": "stdout",
     "output_type": "stream",
     "text": [
      "[1, 2, 3, 4, 6]\n"
     ]
    }
   ],
   "source": [
    "my_list.append(6)\n",
    "print(my_list)"
   ]
  },
  {
   "cell_type": "code",
   "execution_count": 22,
   "id": "dac1e551",
   "metadata": {},
   "outputs": [],
   "source": [
    "#remove\n",
    "my_list.remove(2)"
   ]
  },
  {
   "cell_type": "code",
   "execution_count": 23,
   "id": "b609f38b",
   "metadata": {},
   "outputs": [
    {
     "name": "stdout",
     "output_type": "stream",
     "text": [
      "[1, 3, 4, 6]\n"
     ]
    }
   ],
   "source": [
    "print(my_list)"
   ]
  },
  {
   "cell_type": "code",
   "execution_count": 25,
   "id": "9c8a72c1",
   "metadata": {
    "id": "9c8a72c1"
   },
   "outputs": [],
   "source": [
    "#Creating a list\n",
    "list_2 = [1,4,2,5,7,4,0,9,8]\n",
    "list_2.sort()"
   ]
  },
  {
   "cell_type": "code",
   "execution_count": 26,
   "id": "4bb63bac",
   "metadata": {},
   "outputs": [
    {
     "name": "stdout",
     "output_type": "stream",
     "text": [
      "[0, 1, 2, 4, 4, 5, 7, 8, 9]\n"
     ]
    }
   ],
   "source": [
    "print(list_2)"
   ]
  },
  {
   "cell_type": "code",
   "execution_count": 30,
   "id": "c88a7516",
   "metadata": {},
   "outputs": [
    {
     "name": "stdout",
     "output_type": "stream",
     "text": [
      "0\n"
     ]
    }
   ],
   "source": [
    "min_score = min(list_2)\n",
    "print(min_score)"
   ]
  },
  {
   "cell_type": "code",
   "execution_count": 31,
   "id": "28d667a3",
   "metadata": {},
   "outputs": [
    {
     "name": "stdout",
     "output_type": "stream",
     "text": [
      "9\n"
     ]
    }
   ],
   "source": [
    "max_score = max(list_2)\n",
    "print(max_score)"
   ]
  },
  {
   "cell_type": "code",
   "execution_count": 20,
   "id": "06dd81d2",
   "metadata": {
    "id": "06dd81d2"
   },
   "outputs": [
    {
     "data": {
      "text/plain": [
       "9"
      ]
     },
     "execution_count": 20,
     "metadata": {},
     "output_type": "execute_result"
    }
   ],
   "source": [
    "#q2a##len is used in getting the exact length of the above given list\n",
    "len(list_2)"
   ]
  },
  {
   "cell_type": "code",
   "execution_count": null,
   "id": "59986bac",
   "metadata": {
    "id": "59986bac"
   },
   "outputs": [],
   "source": [
    "####list indexing/slicing operations"
   ]
  },
  {
   "cell_type": "code",
   "execution_count": null,
   "id": "c0ed89b1",
   "metadata": {
    "id": "c0ed89b1"
   },
   "outputs": [],
   "source": [
    "#1st element\n",
    "list_2[0]"
   ]
  },
  {
   "cell_type": "code",
   "execution_count": null,
   "id": "21f86b8a",
   "metadata": {
    "id": "21f86b8a"
   },
   "outputs": [],
   "source": [
    "list_2[1]"
   ]
  },
  {
   "cell_type": "code",
   "execution_count": null,
   "id": "f9973de6",
   "metadata": {
    "id": "f9973de6"
   },
   "outputs": [],
   "source": [
    "list_2[-1]"
   ]
  },
  {
   "cell_type": "code",
   "execution_count": 35,
   "id": "dbc746da",
   "metadata": {
    "id": "dbc746da"
   },
   "outputs": [
    {
     "data": {
      "text/plain": [
       "[0, 1, 2, 4, 5, 7, 8, 9]"
      ]
     },
     "execution_count": 35,
     "metadata": {},
     "output_type": "execute_result"
    }
   ],
   "source": [
    "list_2"
   ]
  },
  {
   "cell_type": "code",
   "execution_count": 40,
   "id": "162ac415",
   "metadata": {},
   "outputs": [
    {
     "data": {
      "text/plain": [
       "[2, 4, 5]"
      ]
     },
     "execution_count": 40,
     "metadata": {},
     "output_type": "execute_result"
    }
   ],
   "source": [
    "#slicing operations\n",
    "list_2[2:5]"
   ]
  },
  {
   "cell_type": "code",
   "execution_count": null,
   "id": "899d39ff",
   "metadata": {
    "id": "899d39ff"
   },
   "outputs": [],
   "source": [
    "list_2[2:4]"
   ]
  },
  {
   "cell_type": "code",
   "execution_count": null,
   "id": "f091364f",
   "metadata": {
    "id": "f091364f"
   },
   "outputs": [],
   "source": [
    "list_2[2:5]"
   ]
  },
  {
   "cell_type": "markdown",
   "id": "2271f541",
   "metadata": {
    "id": "2271f541"
   },
   "source": [
    "insert is used to add an element to the list"
   ]
  },
  {
   "cell_type": "code",
   "execution_count": null,
   "id": "a0e5a0ec",
   "metadata": {
    "id": "a0e5a0ec"
   },
   "outputs": [],
   "source": [
    "#in this case insert is used to add 2 and 6\n",
    "list_2.insert(-1,12)\n",
    "print(list_2)"
   ]
  },
  {
   "cell_type": "code",
   "execution_count": null,
   "id": "48efbb37",
   "metadata": {},
   "outputs": [],
   "source": [
    "str_list = [\"mango\", 'banana', 'orange']"
   ]
  },
  {
   "cell_type": "code",
   "execution_count": null,
   "id": "f846df8a",
   "metadata": {
    "id": "f846df8a"
   },
   "outputs": [],
   "source": [
    "#remove is used to abolish 4 from the list\n",
    "list_2.remove(4)"
   ]
  },
  {
   "cell_type": "code",
   "execution_count": null,
   "id": "66139ae0",
   "metadata": {
    "id": "66139ae0"
   },
   "outputs": [],
   "source": [
    "#this is calling list 2 to find out if the recent activity  has been performed\n",
    "list_2"
   ]
  },
  {
   "cell_type": "code",
   "execution_count": null,
   "id": "c5e86cb8",
   "metadata": {
    "id": "c5e86cb8"
   },
   "outputs": [],
   "source": [
    "#append is used to add a single element to a list\n",
    "list_2.append(25)"
   ]
  },
  {
   "cell_type": "code",
   "execution_count": null,
   "id": "d343456f",
   "metadata": {
    "id": "d343456f"
   },
   "outputs": [],
   "source": [
    "list_2"
   ]
  },
  {
   "cell_type": "code",
   "execution_count": null,
   "id": "3e7943bd",
   "metadata": {
    "id": "3e7943bd"
   },
   "outputs": [],
   "source": [
    "#sort is used to arrange data in a particular order\n",
    "list_2.sort()"
   ]
  },
  {
   "cell_type": "code",
   "execution_count": null,
   "id": "c87bd7ed",
   "metadata": {
    "id": "c87bd7ed"
   },
   "outputs": [],
   "source": [
    "list_2"
   ]
  },
  {
   "cell_type": "code",
   "execution_count": null,
   "id": "0f2fd426",
   "metadata": {
    "id": "0f2fd426"
   },
   "outputs": [],
   "source": [
    "#it is used to refer to a position in a list\n",
    "list_2.index(4)"
   ]
  },
  {
   "cell_type": "code",
   "execution_count": null,
   "id": "14d79e57",
   "metadata": {
    "id": "14d79e57"
   },
   "outputs": [],
   "source": [
    "#it is used to identify the lowest value\n",
    "min(list_2)"
   ]
  },
  {
   "cell_type": "code",
   "execution_count": null,
   "id": "36e5aa8b",
   "metadata": {
    "id": "36e5aa8b"
   },
   "outputs": [],
   "source": [
    "#it is used to identify the highest value\n",
    "max(list_2)"
   ]
  },
  {
   "cell_type": "code",
   "execution_count": 32,
   "id": "a984fab3",
   "metadata": {
    "id": "a984fab3"
   },
   "outputs": [
    {
     "data": {
      "text/plain": [
       "4"
      ]
     },
     "execution_count": 32,
     "metadata": {},
     "output_type": "execute_result"
    }
   ],
   "source": [
    "#it removes an item from a specific index\n",
    "\n",
    "list_2.pop(3)"
   ]
  },
  {
   "cell_type": "code",
   "execution_count": null,
   "id": "1f99a795",
   "metadata": {},
   "outputs": [],
   "source": [
    "list_2"
   ]
  },
  {
   "cell_type": "code",
   "execution_count": null,
   "id": "557c6b8f",
   "metadata": {
    "id": "557c6b8f"
   },
   "outputs": [],
   "source": [
    "#it is used to remove all items on a list\n",
    "list_2.clear()"
   ]
  },
  {
   "cell_type": "code",
   "execution_count": null,
   "id": "f5ea5664",
   "metadata": {
    "id": "f5ea5664"
   },
   "outputs": [],
   "source": [
    "\n",
    "list_2"
   ]
  },
  {
   "cell_type": "code",
   "execution_count": null,
   "id": "48cd5ceb",
   "metadata": {
    "id": "48cd5ceb"
   },
   "outputs": [],
   "source": [
    "#creating a new list\n",
    "list_3=[1,2,3,4,5,6,7,8]\n",
    "list_4 = ['2','4']"
   ]
  },
  {
   "cell_type": "code",
   "execution_count": null,
   "id": "3caf1747",
   "metadata": {
    "id": "3caf1747"
   },
   "outputs": [],
   "source": [
    "#extend can be used to join two lists together\n",
    "list_3.extend(list_4)"
   ]
  },
  {
   "cell_type": "code",
   "execution_count": null,
   "id": "bd306fa1",
   "metadata": {
    "id": "bd306fa1"
   },
   "outputs": [],
   "source": [
    "#printing the outcome\n",
    "print('list after extend():',list_3)"
   ]
  },
  {
   "cell_type": "code",
   "execution_count": null,
   "id": "cbf549e8",
   "metadata": {
    "id": "cbf549e8"
   },
   "outputs": [],
   "source": [
    "l_4 = [1,2,3,4,5,6,7,8]"
   ]
  },
  {
   "cell_type": "code",
   "execution_count": null,
   "id": "d79e8767",
   "metadata": {
    "id": "d79e8767"
   },
   "outputs": [],
   "source": [
    "l_4[:3]"
   ]
  },
  {
   "cell_type": "markdown",
   "id": "ae148648",
   "metadata": {
    "id": "ae148648"
   },
   "source": [
    "## TUPLE\n",
    "> Tuple is a collection which is ordered and unchangeable. it is used to store multiple items in a single variable.\n"
   ]
  },
  {
   "cell_type": "code",
   "execution_count": 42,
   "id": "1d16c538",
   "metadata": {},
   "outputs": [
    {
     "data": {
      "text/plain": [
       "10"
      ]
     },
     "execution_count": 42,
     "metadata": {},
     "output_type": "execute_result"
    }
   ],
   "source": [
    "num = '2'\n",
    "int(num)*5"
   ]
  },
  {
   "cell_type": "code",
   "execution_count": null,
   "id": "97b1bb26",
   "metadata": {},
   "outputs": [],
   "source": [
    "score = (1,2,3)\n"
   ]
  },
  {
   "cell_type": "code",
   "execution_count": 46,
   "id": "3bb3a2d6",
   "metadata": {
    "id": "3bb3a2d6"
   },
   "outputs": [
    {
     "name": "stdout",
     "output_type": "stream",
     "text": [
      "('emem', 'lionel', 'blessing')\n",
      "<class 'tuple'>\n"
     ]
    }
   ],
   "source": [
    "#creating a tuple\n",
    "tuple_1=('emem','lionel','blessing')\n",
    "print(tuple_1)\n",
    "print(type(tuple_1))"
   ]
  },
  {
   "cell_type": "code",
   "execution_count": 47,
   "id": "f6652d15",
   "metadata": {
    "id": "f6652d15"
   },
   "outputs": [
    {
     "name": "stdout",
     "output_type": "stream",
     "text": [
      "['emem', 'lionel', 'blessing']\n",
      "<class 'list'>\n"
     ]
    }
   ],
   "source": [
    "#switching a tuple to a list\n",
    "list_8=list(tuple_1)\n",
    "print(list_8)\n",
    "print(type(list_8))"
   ]
  },
  {
   "cell_type": "code",
   "execution_count": null,
   "id": "f6892fe6",
   "metadata": {},
   "outputs": [],
   "source": [
    "type(list_8)"
   ]
  },
  {
   "cell_type": "code",
   "execution_count": null,
   "id": "c2cfa658",
   "metadata": {
    "id": "c2cfa658"
   },
   "outputs": [],
   "source": [
    "#switching a list to a tuple\n",
    "tuple_1=tuple(list_8)\n",
    "print(tuple_1)"
   ]
  },
  {
   "cell_type": "code",
   "execution_count": null,
   "id": "72dfb224",
   "metadata": {},
   "outputs": [],
   "source": []
  },
  {
   "cell_type": "code",
   "execution_count": null,
   "id": "e988f9fa",
   "metadata": {
    "id": "e988f9fa"
   },
   "outputs": [],
   "source": [
    "####Dealing with set2\n",
    "fruits_1={'orange','mango','watermelon',\"salt\",'pear','avocado'}\n",
    "fruits_2={'strawberry','blueberry','pear','mango','raspberries', \"salt\"}\n",
    "fruits_2.discard(\"pear\")\n",
    "print(fruits_2)"
   ]
  },
  {
   "cell_type": "code",
   "execution_count": null,
   "id": "8c9bba24",
   "metadata": {
    "id": "8c9bba24"
   },
   "outputs": [],
   "source": [
    "#Using the update set operation\n",
    "# fruits_2=list(fruits_2)\n",
    "# print(fruits_2)\n",
    "fruits_1.update((\"fruits_2\", \"grains\",))\n",
    "print(fruits_1)"
   ]
  },
  {
   "cell_type": "code",
   "execution_count": null,
   "id": "76437da5",
   "metadata": {
    "id": "76437da5"
   },
   "outputs": [],
   "source": [
    "#Using the remove set operation \n",
    "fruits_1.remove(\"mango\")"
   ]
  },
  {
   "cell_type": "code",
   "execution_count": null,
   "id": "16e54314",
   "metadata": {
    "id": "16e54314"
   },
   "outputs": [],
   "source": [
    "#calling fruits_1\n",
    "fruits_1"
   ]
  },
  {
   "cell_type": "code",
   "execution_count": null,
   "id": "afec40cb",
   "metadata": {
    "id": "afec40cb"
   },
   "outputs": [],
   "source": [
    "#using the union set operation\n",
    "fruits_1.union(fruits_2)"
   ]
  },
  {
   "cell_type": "code",
   "execution_count": null,
   "id": "1878f297",
   "metadata": {
    "id": "1878f297"
   },
   "outputs": [],
   "source": [
    "#Using the union sign to write a code\n",
    "fruits_1|fruits_2"
   ]
  },
  {
   "cell_type": "code",
   "execution_count": null,
   "id": "edd0b264",
   "metadata": {
    "id": "edd0b264"
   },
   "outputs": [],
   "source": [
    "#using the intersection set operations\n",
    "fruits_1.intersection(fruits_2)"
   ]
  },
  {
   "cell_type": "code",
   "execution_count": null,
   "id": "e03666fb",
   "metadata": {
    "id": "e03666fb"
   },
   "outputs": [],
   "source": [
    "#using the intersection sign to write a code \n",
    "fruits_1 & fruits_2"
   ]
  },
  {
   "cell_type": "code",
   "execution_count": null,
   "id": "f63dc7bf",
   "metadata": {
    "id": "f63dc7bf"
   },
   "outputs": [],
   "source": [
    "#using the difference sign to write the code\n",
    "print(fruits_1,'\\n\\n',fruits_2)\n",
    "fruits_1 - fruits_2"
   ]
  },
  {
   "cell_type": "code",
   "execution_count": null,
   "id": "810e289c",
   "metadata": {
    "id": "810e289c"
   },
   "outputs": [],
   "source": [
    "#Using the difference set operation\n",
    "fruits_1.difference(fruits_2)"
   ]
  },
  {
   "cell_type": "code",
   "execution_count": null,
   "id": "a083566e",
   "metadata": {
    "id": "a083566e"
   },
   "outputs": [],
   "source": [
    "#USING THE SYMMETRIC DIFFERENCE\n",
    "fruits_1 ^ fruits_2"
   ]
  },
  {
   "cell_type": "code",
   "execution_count": null,
   "id": "df7a39d8",
   "metadata": {
    "id": "df7a39d8"
   },
   "outputs": [],
   "source": [
    "fruits_1.symmetric_difference(fruits_2)"
   ]
  },
  {
   "cell_type": "code",
   "execution_count": null,
   "id": "86627722",
   "metadata": {
    "id": "86627722"
   },
   "outputs": [],
   "source": [
    "a={2,3}\n",
    "b={9,8,7,0,2,3,4}"
   ]
  },
  {
   "cell_type": "code",
   "execution_count": null,
   "id": "cab8139c",
   "metadata": {
    "id": "cab8139c"
   },
   "outputs": [],
   "source": [
    "a.issubset(b)"
   ]
  },
  {
   "cell_type": "code",
   "execution_count": null,
   "id": "dd0fcb2f",
   "metadata": {
    "id": "dd0fcb2f"
   },
   "outputs": [],
   "source": [
    "b.issuperset(a)"
   ]
  },
  {
   "cell_type": "code",
   "execution_count": null,
   "id": "31b821e8",
   "metadata": {
    "id": "31b821e8"
   },
   "outputs": [],
   "source": [
    "a.isdisjoint(b)"
   ]
  }
 ],
 "metadata": {
  "colab": {
   "provenance": []
  },
  "kernelspec": {
   "display_name": "Python 3 (ipykernel)",
   "language": "python",
   "name": "python3"
  },
  "language_info": {
   "codemirror_mode": {
    "name": "ipython",
    "version": 3
   },
   "file_extension": ".py",
   "mimetype": "text/x-python",
   "name": "python",
   "nbconvert_exporter": "python",
   "pygments_lexer": "ipython3",
   "version": "3.9.13"
  }
 },
 "nbformat": 4,
 "nbformat_minor": 5
}
